{
 "cells": [
  {
   "cell_type": "markdown",
   "metadata": {},
   "source": [
    "# Iris Data Set"
   ]
  },
  {
   "cell_type": "markdown",
   "metadata": {},
   "source": [
    "Iris flower data set consists of 50 samples from each of 3 species of Iris (Setosa, Virginica, Versicolor).  "
   ]
  },
  {
   "cell_type": "markdown",
   "metadata": {},
   "source": [
    "## 1. Get and load the data"
   ]
  },
  {
   "cell_type": "code",
   "execution_count": 12,
   "metadata": {},
   "outputs": [
    {
     "data": {
      "text/plain": [
       "array([( nan,  nan,  nan,  nan,  nan), ( 5.1,  3.5,  1.4,  0.2,  nan),\n",
       "       ( 4.9,  3. ,  1.4,  0.2,  nan), ( 4.7,  3.2,  1.3,  0.2,  nan),\n",
       "       ( 4.6,  3.1,  1.5,  0.2,  nan), ( 5. ,  3.6,  1.4,  0.2,  nan),\n",
       "       ( 5.4,  3.9,  1.7,  0.4,  nan), ( 4.6,  3.4,  1.4,  0.3,  nan),\n",
       "       ( 5. ,  3.4,  1.5,  0.2,  nan), ( 4.4,  2.9,  1.4,  0.2,  nan),\n",
       "       ( 4.9,  3.1,  1.5,  0.1,  nan), ( 5.4,  3.7,  1.5,  0.2,  nan),\n",
       "       ( 4.8,  3.4,  1.6,  0.2,  nan), ( 4.8,  3. ,  1.4,  0.1,  nan),\n",
       "       ( 4.3,  3. ,  1.1,  0.1,  nan), ( 5.8,  4. ,  1.2,  0.2,  nan),\n",
       "       ( 5.7,  4.4,  1.5,  0.4,  nan), ( 5.4,  3.9,  1.3,  0.4,  nan),\n",
       "       ( 5.1,  3.5,  1.4,  0.3,  nan), ( 5.7,  3.8,  1.7,  0.3,  nan),\n",
       "       ( 5.1,  3.8,  1.5,  0.3,  nan), ( 5.4,  3.4,  1.7,  0.2,  nan),\n",
       "       ( 5.1,  3.7,  1.5,  0.4,  nan), ( 4.6,  3.6,  1. ,  0.2,  nan),\n",
       "       ( 5.1,  3.3,  1.7,  0.5,  nan), ( 4.8,  3.4,  1.9,  0.2,  nan),\n",
       "       ( 5. ,  3. ,  1.6,  0.2,  nan), ( 5. ,  3.4,  1.6,  0.4,  nan),\n",
       "       ( 5.2,  3.5,  1.5,  0.2,  nan), ( 5.2,  3.4,  1.4,  0.2,  nan),\n",
       "       ( 4.7,  3.2,  1.6,  0.2,  nan), ( 4.8,  3.1,  1.6,  0.2,  nan),\n",
       "       ( 5.4,  3.4,  1.5,  0.4,  nan), ( 7. ,  3.2,  4.7,  1.4,  nan),\n",
       "       ( 6.4,  3.2,  4.5,  1.5,  nan), ( 6.9,  3.1,  4.9,  1.5,  nan),\n",
       "       ( 5.5,  2.3,  4. ,  1.3,  nan), ( 6.5,  2.8,  4.6,  1.5,  nan),\n",
       "       ( 5.7,  2.8,  4.5,  1.3,  nan), ( 6.3,  3.3,  4.7,  1.6,  nan),\n",
       "       ( 4.9,  2.4,  3.3,  1. ,  nan), ( 6.6,  2.9,  4.6,  1.3,  nan),\n",
       "       ( 5.2,  2.7,  3.9,  1.4,  nan), ( 5. ,  2. ,  3.5,  1. ,  nan),\n",
       "       ( 5.9,  3. ,  4.2,  1.5,  nan), ( 6. ,  2.2,  4. ,  1. ,  nan),\n",
       "       ( 6.1,  2.9,  4.7,  1.4,  nan), ( 5.6,  2.9,  3.6,  1.3,  nan),\n",
       "       ( 6.7,  3.1,  4.4,  1.4,  nan), ( 5.6,  3. ,  4.5,  1.5,  nan),\n",
       "       ( 5.8,  2.7,  4.1,  1. ,  nan), ( 6.2,  2.2,  4.5,  1.5,  nan),\n",
       "       ( 5.6,  2.5,  3.9,  1.1,  nan), ( 5.9,  3.2,  4.8,  1.8,  nan),\n",
       "       ( 6.1,  2.8,  4. ,  1.3,  nan), ( 6.3,  2.5,  4.9,  1.5,  nan),\n",
       "       ( 6.1,  2.8,  4.7,  1.2,  nan), ( 6.4,  2.9,  4.3,  1.3,  nan),\n",
       "       ( 6.6,  3. ,  4.4,  1.4,  nan), ( 6.8,  2.8,  4.8,  1.4,  nan),\n",
       "       ( 6.7,  3. ,  5. ,  1.7,  nan), ( 6. ,  2.9,  4.5,  1.5,  nan),\n",
       "       ( 5.7,  2.6,  3.5,  1. ,  nan), ( 5.5,  2.4,  3.8,  1.1,  nan),\n",
       "       ( 5.5,  2.4,  3.7,  1. ,  nan), ( 5.8,  2.7,  3.9,  1.2,  nan),\n",
       "       ( 6. ,  2.7,  5.1,  1.6,  nan), ( 6.3,  3.3,  6. ,  2.5,  nan),\n",
       "       ( 5.8,  2.7,  5.1,  1.9,  nan), ( 7.1,  3. ,  5.9,  2.1,  nan),\n",
       "       ( 6.3,  2.9,  5.6,  1.8,  nan), ( 6.5,  3. ,  5.8,  2.2,  nan),\n",
       "       ( 7.6,  3. ,  6.6,  2.1,  nan), ( 4.9,  2.5,  4.5,  1.7,  nan),\n",
       "       ( 7.3,  2.9,  6.3,  1.8,  nan), ( 6.7,  2.5,  5.8,  1.8,  nan),\n",
       "       ( 7.2,  3.6,  6.1,  2.5,  nan), ( 6.5,  3.2,  5.1,  2. ,  nan),\n",
       "       ( 6.4,  2.7,  5.3,  1.9,  nan), ( 6.8,  3. ,  5.5,  2.1,  nan),\n",
       "       ( 5.7,  2.5,  5. ,  2. ,  nan), ( 5.8,  2.8,  5.1,  2.4,  nan),\n",
       "       ( 6.4,  3.2,  5.3,  2.3,  nan), ( 6.5,  3. ,  5.5,  1.8,  nan),\n",
       "       ( 7.7,  3.8,  6.7,  2.2,  nan), ( 7.7,  2.6,  6.9,  2.3,  nan),\n",
       "       ( 6. ,  2.2,  5. ,  1.5,  nan), ( 6.9,  3.2,  5.7,  2.3,  nan),\n",
       "       ( 5.6,  2.8,  4.9,  2. ,  nan), ( 7.7,  2.8,  6.7,  2. ,  nan),\n",
       "       ( 6.3,  2.7,  4.9,  1.8,  nan), ( 6.7,  3.3,  5.7,  2.1,  nan),\n",
       "       ( 7.2,  3.2,  6. ,  1.8,  nan), ( 6.2,  2.8,  4.8,  1.8,  nan),\n",
       "       ( 6.1,  3. ,  4.9,  1.8,  nan), ( 6.4,  2.8,  5.6,  2.1,  nan),\n",
       "       ( 7.2,  3. ,  5.8,  1.6,  nan), ( 7.4,  2.8,  6.1,  1.9,  nan),\n",
       "       ( 7.9,  3.8,  6.4,  2. ,  nan), ( 6.4,  2.8,  5.6,  2.2,  nan),\n",
       "       ( 6.3,  2.8,  5.1,  1.5,  nan)], \n",
       "      dtype=[('slength', '<f8'), ('swidth', '<f8'), ('plength', '<f8'), ('pwidth', '<f8'), ('class', '<f8')])"
      ]
     },
     "execution_count": 12,
     "metadata": {},
     "output_type": "execute_result"
    }
   ],
   "source": [
    "import numpy as np #Importing numpy library\n",
    "# load data from csv and set to data\n",
    "data = np.genfromtxt('IRIS.csv', delimiter=',', names=['slength','swidth','plength','pwidth','class'])\n",
    "data #print out array\n",
    "\n",
    "\n",
    "\n"
   ]
  },
  {
   "cell_type": "markdown",
   "metadata": {},
   "source": [
    "## 2. Write a note about the data set"
   ]
  },
  {
   "cell_type": "markdown",
   "metadata": {},
   "source": [
    "## 3. Create a simple plot"
   ]
  },
  {
   "cell_type": "code",
   "execution_count": 13,
   "metadata": {},
   "outputs": [
    {
     "data": {
      "image/png": "[encoded data removed]",
      "text/plain": [
       "<matplotlib.figure.Figure at 0x2632c12de80>"
      ]
     },
     "metadata": {},
     "output_type": "display_data"
    }
   ],
   "source": [
    "import matplotlib.pyplot as pl #Importing matplotlib library\n",
    "\n",
    "#Make a scatter plot of sepal length vs sepal width in the dataset\n",
    "pl.scatter(data['slength'], data['swidth'], c='b', marker='.')\n",
    "pl.title('Sepal Length vs Sepal Width') #title of plot\n",
    "pl.xlabel('length (cm)') #x-axis label\n",
    "pl.ylabel('width (cm)') #y-axis label\n",
    "pl.show() # Show the plot"
   ]
  },
  {
   "cell_type": "markdown",
   "metadata": {
    "collapsed": true
   },
   "source": [
    "## 4. Create a more complex plot"
   ]
  },
  {
   "cell_type": "code",
   "execution_count": 18,
   "metadata": {},
   "outputs": [
    {
     "name": "stderr",
     "output_type": "stream",
     "text": [
      "C:\\Users\\Iano\\Anaconda3\\lib\\site-packages\\ipykernel_launcher.py:1: FutureWarning: elementwise comparison failed; returning scalar instead, but in the future will perform elementwise comparison\n",
      "  \"\"\"Entry point for launching an IPython kernel.\n",
      "C:\\Users\\Iano\\Anaconda3\\lib\\site-packages\\ipykernel_launcher.py:2: FutureWarning: elementwise comparison failed; returning scalar instead, but in the future will perform elementwise comparison\n",
      "  \n",
      "C:\\Users\\Iano\\Anaconda3\\lib\\site-packages\\ipykernel_launcher.py:3: FutureWarning: elementwise comparison failed; returning scalar instead, but in the future will perform elementwise comparison\n",
      "  This is separate from the ipykernel package so we can avoid doing imports until\n"
     ]
    },
    {
     "data": {
      "image/png": "[encoded data removed]",
      "text/plain": [
       "<matplotlib.figure.Figure at 0x2632c6cae48>"
      ]
     },
     "metadata": {},
     "output_type": "display_data"
    }
   ],
   "source": [
    "setosa = pl.scatter(data['slength'], data['swidth'], data['class'] == 'setosa', c='r', marker='.', label='setosa')\n",
    "versicolor = pl.scatter(data['slength'], data['swidth'], data['class'] == 'versicolor', c='g', marker='.', label='versicolor')\n",
    "virginica = pl.scatter(data['slength'], data['swidth'], data['class'] == 'virginica', c='b', marker='.', label='virginica')\n",
    "pl.title('setosa vs versicolor vs virginica') #title of plot\n",
    "pl.xlabel('length (cm)') #x-axis label\n",
    "pl.ylabel('width (cm)') #y-axis label\n",
    "pl.legend()\n",
    "pl.show() # Show the plot"
   ]
  },
  {
   "cell_type": "code",
   "execution_count": null,
   "metadata": {
    "collapsed": true
   },
   "outputs": [],
   "source": []
  }
 ],
 "metadata": {
  "kernelspec": {
   "display_name": "Python 3",
   "language": "python",
   "name": "python3"
  },
  "language_info": {
   "codemirror_mode": {
    "name": "ipython",
    "version": 3
   },
   "file_extension": ".py",
   "mimetype": "text/x-python",
   "name": "python",
   "nbconvert_exporter": "python",
   "pygments_lexer": "ipython3",
   "version": "3.6.1"
  }
 },
 "nbformat": 4,
 "nbformat_minor": 2
}
