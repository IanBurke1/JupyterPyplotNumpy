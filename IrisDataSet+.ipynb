{
 "cells": [
  {
   "cell_type": "markdown",
   "metadata": {},
   "source": [
    "# Iris Data Set"
   ]
  },
  {
   "cell_type": "markdown",
   "metadata": {},
   "source": [
    "Iris flower data set consists of 50 samples from each of 3 species of Iris (Setosa, Virginica, Versicolor).  "
   ]
  },
  {
   "cell_type": "markdown",
   "metadata": {},
   "source": [
    "## 1. Get and load the data"
   ]
  },
  {
   "cell_type": "code",
   "execution_count": 13,
   "metadata": {},
   "outputs": [
    {
     "data": {
      "text/plain": [
       "array([[ 5.1,  3.5,  1.4,  0.2,  nan],\n",
       "       [ 4.9,  3. ,  1.4,  0.2,  nan],\n",
       "       [ 4.7,  3.2,  1.3,  0.2,  nan],\n",
       "       [ 4.6,  3.1,  1.5,  0.2,  nan],\n",
       "       [ 5. ,  3.6,  1.4,  0.2,  nan],\n",
       "       [ 5.4,  3.9,  1.7,  0.4,  nan],\n",
       "       [ 4.6,  3.4,  1.4,  0.3,  nan],\n",
       "       [ 5. ,  3.4,  1.5,  0.2,  nan],\n",
       "       [ 4.4,  2.9,  1.4,  0.2,  nan],\n",
       "       [ 4.9,  3.1,  1.5,  0.1,  nan],\n",
       "       [ 5.4,  3.7,  1.5,  0.2,  nan],\n",
       "       [ 4.8,  3.4,  1.6,  0.2,  nan],\n",
       "       [ 4.8,  3. ,  1.4,  0.1,  nan],\n",
       "       [ 4.3,  3. ,  1.1,  0.1,  nan],\n",
       "       [ 5.8,  4. ,  1.2,  0.2,  nan],\n",
       "       [ 5.7,  4.4,  1.5,  0.4,  nan],\n",
       "       [ 5.4,  3.9,  1.3,  0.4,  nan],\n",
       "       [ 5.1,  3.5,  1.4,  0.3,  nan],\n",
       "       [ 5.7,  3.8,  1.7,  0.3,  nan],\n",
       "       [ 5.1,  3.8,  1.5,  0.3,  nan],\n",
       "       [ 5.4,  3.4,  1.7,  0.2,  nan],\n",
       "       [ 5.1,  3.7,  1.5,  0.4,  nan],\n",
       "       [ 4.6,  3.6,  1. ,  0.2,  nan],\n",
       "       [ 5.1,  3.3,  1.7,  0.5,  nan],\n",
       "       [ 4.8,  3.4,  1.9,  0.2,  nan],\n",
       "       [ 5. ,  3. ,  1.6,  0.2,  nan],\n",
       "       [ 5. ,  3.4,  1.6,  0.4,  nan],\n",
       "       [ 5.2,  3.5,  1.5,  0.2,  nan],\n",
       "       [ 5.2,  3.4,  1.4,  0.2,  nan],\n",
       "       [ 4.7,  3.2,  1.6,  0.2,  nan],\n",
       "       [ 4.8,  3.1,  1.6,  0.2,  nan],\n",
       "       [ 5.4,  3.4,  1.5,  0.4,  nan],\n",
       "       [ 7. ,  3.2,  4.7,  1.4,  nan],\n",
       "       [ 6.4,  3.2,  4.5,  1.5,  nan],\n",
       "       [ 6.9,  3.1,  4.9,  1.5,  nan],\n",
       "       [ 5.5,  2.3,  4. ,  1.3,  nan],\n",
       "       [ 6.5,  2.8,  4.6,  1.5,  nan],\n",
       "       [ 5.7,  2.8,  4.5,  1.3,  nan],\n",
       "       [ 6.3,  3.3,  4.7,  1.6,  nan],\n",
       "       [ 4.9,  2.4,  3.3,  1. ,  nan],\n",
       "       [ 6.6,  2.9,  4.6,  1.3,  nan],\n",
       "       [ 5.2,  2.7,  3.9,  1.4,  nan],\n",
       "       [ 5. ,  2. ,  3.5,  1. ,  nan],\n",
       "       [ 5.9,  3. ,  4.2,  1.5,  nan],\n",
       "       [ 6. ,  2.2,  4. ,  1. ,  nan],\n",
       "       [ 6.1,  2.9,  4.7,  1.4,  nan],\n",
       "       [ 5.6,  2.9,  3.6,  1.3,  nan],\n",
       "       [ 6.7,  3.1,  4.4,  1.4,  nan],\n",
       "       [ 5.6,  3. ,  4.5,  1.5,  nan],\n",
       "       [ 5.8,  2.7,  4.1,  1. ,  nan],\n",
       "       [ 6.2,  2.2,  4.5,  1.5,  nan],\n",
       "       [ 5.6,  2.5,  3.9,  1.1,  nan],\n",
       "       [ 5.9,  3.2,  4.8,  1.8,  nan],\n",
       "       [ 6.1,  2.8,  4. ,  1.3,  nan],\n",
       "       [ 6.3,  2.5,  4.9,  1.5,  nan],\n",
       "       [ 6.1,  2.8,  4.7,  1.2,  nan],\n",
       "       [ 6.4,  2.9,  4.3,  1.3,  nan],\n",
       "       [ 6.6,  3. ,  4.4,  1.4,  nan],\n",
       "       [ 6.8,  2.8,  4.8,  1.4,  nan],\n",
       "       [ 6.7,  3. ,  5. ,  1.7,  nan],\n",
       "       [ 6. ,  2.9,  4.5,  1.5,  nan],\n",
       "       [ 5.7,  2.6,  3.5,  1. ,  nan],\n",
       "       [ 5.5,  2.4,  3.8,  1.1,  nan],\n",
       "       [ 5.5,  2.4,  3.7,  1. ,  nan],\n",
       "       [ 5.8,  2.7,  3.9,  1.2,  nan],\n",
       "       [ 6. ,  2.7,  5.1,  1.6,  nan],\n",
       "       [ 6.3,  3.3,  6. ,  2.5,  nan],\n",
       "       [ 5.8,  2.7,  5.1,  1.9,  nan],\n",
       "       [ 7.1,  3. ,  5.9,  2.1,  nan],\n",
       "       [ 6.3,  2.9,  5.6,  1.8,  nan],\n",
       "       [ 6.5,  3. ,  5.8,  2.2,  nan],\n",
       "       [ 7.6,  3. ,  6.6,  2.1,  nan],\n",
       "       [ 4.9,  2.5,  4.5,  1.7,  nan],\n",
       "       [ 7.3,  2.9,  6.3,  1.8,  nan],\n",
       "       [ 6.7,  2.5,  5.8,  1.8,  nan],\n",
       "       [ 7.2,  3.6,  6.1,  2.5,  nan],\n",
       "       [ 6.5,  3.2,  5.1,  2. ,  nan],\n",
       "       [ 6.4,  2.7,  5.3,  1.9,  nan],\n",
       "       [ 6.8,  3. ,  5.5,  2.1,  nan],\n",
       "       [ 5.7,  2.5,  5. ,  2. ,  nan],\n",
       "       [ 5.8,  2.8,  5.1,  2.4,  nan],\n",
       "       [ 6.4,  3.2,  5.3,  2.3,  nan],\n",
       "       [ 6.5,  3. ,  5.5,  1.8,  nan],\n",
       "       [ 7.7,  3.8,  6.7,  2.2,  nan],\n",
       "       [ 7.7,  2.6,  6.9,  2.3,  nan],\n",
       "       [ 6. ,  2.2,  5. ,  1.5,  nan],\n",
       "       [ 6.9,  3.2,  5.7,  2.3,  nan],\n",
       "       [ 5.6,  2.8,  4.9,  2. ,  nan],\n",
       "       [ 7.7,  2.8,  6.7,  2. ,  nan],\n",
       "       [ 6.3,  2.7,  4.9,  1.8,  nan],\n",
       "       [ 6.7,  3.3,  5.7,  2.1,  nan],\n",
       "       [ 7.2,  3.2,  6. ,  1.8,  nan],\n",
       "       [ 6.2,  2.8,  4.8,  1.8,  nan],\n",
       "       [ 6.1,  3. ,  4.9,  1.8,  nan],\n",
       "       [ 6.4,  2.8,  5.6,  2.1,  nan],\n",
       "       [ 7.2,  3. ,  5.8,  1.6,  nan],\n",
       "       [ 7.4,  2.8,  6.1,  1.9,  nan],\n",
       "       [ 7.9,  3.8,  6.4,  2. ,  nan],\n",
       "       [ 6.4,  2.8,  5.6,  2.2,  nan],\n",
       "       [ 6.3,  2.8,  5.1,  1.5,  nan]])"
      ]
     },
     "execution_count": 13,
     "metadata": {},
     "output_type": "execute_result"
    }
   ],
   "source": [
    "import numpy as np\n",
    "import numpy \n",
    "import matplotlib.pyplot as pl\n",
    "\n",
    "iris = np.genfromtxt('IRIS.csv', delimiter=',')\n",
    "iris\n",
    "\n",
    "\n"
   ]
  },
  {
   "cell_type": "code",
   "execution_count": null,
   "metadata": {
    "collapsed": true
   },
   "outputs": [],
   "source": [
    "x= data[:,0]\n",
    "y= data[:,1]\n",
    "\n",
    "pl.plot(x, y)\n",
    "pl.xlabel('width (cm)')\n",
    "pl.ylabel('length (cm)')\n",
    "pl.show()"
   ]
  }
 ],
 "metadata": {
  "kernelspec": {
   "display_name": "Python 3",
   "language": "python",
   "name": "python3"
  },
  "language_info": {
   "codemirror_mode": {
    "name": "ipython",
    "version": 3
   },
   "file_extension": ".py",
   "mimetype": "text/x-python",
   "name": "python",
   "nbconvert_exporter": "python",
   "pygments_lexer": "ipython3",
   "version": "3.6.1"
  }
 },
 "nbformat": 4,
 "nbformat_minor": 2
}
